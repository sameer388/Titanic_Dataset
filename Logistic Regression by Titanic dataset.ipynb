{
 "cells": [
  {
   "cell_type": "code",
   "execution_count": 1,
   "id": "f5266526",
   "metadata": {},
   "outputs": [],
   "source": [
    "## Here we are going to do the analysis for logistic regression for titanic dataset\n",
    "import numpy as np\n",
    "import pandas as pd\n",
    "import matplotlib.pyplot as plt"
   ]
  },
  {
   "cell_type": "code",
   "execution_count": 2,
   "id": "7f3494fa",
   "metadata": {},
   "outputs": [
    {
     "name": "stdout",
     "output_type": "stream",
     "text": [
      "Pclass        0\n",
      "Name          0\n",
      "Sex           0\n",
      "Age         132\n",
      "SibSp         0\n",
      "Parch         0\n",
      "Ticket        0\n",
      "Fare          0\n",
      "Cabin       514\n",
      "Embarked      1\n",
      "Survived      0\n",
      "dtype: int64\n"
     ]
    },
    {
     "data": {
      "text/plain": [
       "(668, 11)"
      ]
     },
     "execution_count": 2,
     "metadata": {},
     "output_type": "execute_result"
    }
   ],
   "source": [
    "data = pd.read_csv('D:/Data Science/31. Project - Logistic Regression/1. Logistic Regression - Titanic Dataset.csv')\n",
    "df = data.copy()\n",
    "## we are going to see that how many value are null in this case\n",
    "print(df.isnull().sum())\n",
    "df.shape"
   ]
  },
  {
   "cell_type": "code",
   "execution_count": 3,
   "id": "66f4959f",
   "metadata": {
    "scrolled": true
   },
   "outputs": [],
   "source": [
    "def f(str):\n",
    "    if str == 'male':\n",
    "        return 1\n",
    "    else:\n",
    "        return 0\n",
    "## here we are transorming the value of male into 1 and female into 0\n",
    "df['Sex'] = df.Sex.apply(f)\n",
    "## after that we are drop all that column which has no involvement in our algorithem\n",
    "## since all are in the form of string\n",
    "df.drop('Pclass',axis = 1,inplace = True)"
   ]
  },
  {
   "cell_type": "code",
   "execution_count": 4,
   "id": "33c40791",
   "metadata": {},
   "outputs": [],
   "source": [
    "df.drop('Name',axis = 1,inplace = True)\n",
    "df.drop('Ticket',axis = 1,inplace = True)\n",
    "df.drop('Cabin',axis = 1,inplace = True)\n"
   ]
  },
  {
   "cell_type": "code",
   "execution_count": 5,
   "id": "3460efc0",
   "metadata": {},
   "outputs": [],
   "source": [
    "## we are going to fill the age value with the mean value of age\n",
    "df.Age.fillna(df.Age.mean(),inplace = True)\n",
    "## we are leave with one  embarked value so we drop it\n",
    "df.dropna(inplace = True)"
   ]
  },
  {
   "cell_type": "code",
   "execution_count": 6,
   "id": "213fec88",
   "metadata": {},
   "outputs": [
    {
     "data": {
      "text/plain": [
       "Sex         0\n",
       "Age         0\n",
       "SibSp       0\n",
       "Parch       0\n",
       "Fare        0\n",
       "Embarked    0\n",
       "Survived    0\n",
       "dtype: int64"
      ]
     },
     "execution_count": 6,
     "metadata": {},
     "output_type": "execute_result"
    }
   ],
   "source": [
    "df.describe()\n",
    "df.isnull().sum()"
   ]
  },
  {
   "cell_type": "code",
   "execution_count": 7,
   "id": "e6d04b89",
   "metadata": {},
   "outputs": [],
   "source": [
    "## Make embarked with S:0 ; C:1;Q:2\n",
    "def f(str):\n",
    "    if str == 'S':\n",
    "        return 0\n",
    "    elif str == 'C':\n",
    "        return 1\n",
    "    else:\n",
    "        return 2\n",
    "df['Embarked'] = df.Embarked.apply(f)"
   ]
  },
  {
   "cell_type": "code",
   "execution_count": 8,
   "id": "dfbb7be5",
   "metadata": {},
   "outputs": [],
   "source": [
    "## we are going to learn the Logistic Regression\n",
    "from sklearn.linear_model import LogisticRegression\n",
    "from sklearn.model_selection import train_test_split\n",
    "from sklearn.preprocessing import StandardScaler"
   ]
  },
  {
   "cell_type": "code",
   "execution_count": 9,
   "id": "34894151",
   "metadata": {},
   "outputs": [
    {
     "data": {
      "text/html": [
       "<div>\n",
       "<style scoped>\n",
       "    .dataframe tbody tr th:only-of-type {\n",
       "        vertical-align: middle;\n",
       "    }\n",
       "\n",
       "    .dataframe tbody tr th {\n",
       "        vertical-align: top;\n",
       "    }\n",
       "\n",
       "    .dataframe thead th {\n",
       "        text-align: right;\n",
       "    }\n",
       "</style>\n",
       "<table border=\"1\" class=\"dataframe\">\n",
       "  <thead>\n",
       "    <tr style=\"text-align: right;\">\n",
       "      <th></th>\n",
       "      <th>Sex</th>\n",
       "      <th>Age</th>\n",
       "      <th>SibSp</th>\n",
       "      <th>Parch</th>\n",
       "      <th>Fare</th>\n",
       "      <th>Embarked</th>\n",
       "      <th>Survived</th>\n",
       "    </tr>\n",
       "  </thead>\n",
       "  <tbody>\n",
       "    <tr>\n",
       "      <th>0</th>\n",
       "      <td>0</td>\n",
       "      <td>29.00000</td>\n",
       "      <td>1</td>\n",
       "      <td>0</td>\n",
       "      <td>26.000</td>\n",
       "      <td>0</td>\n",
       "      <td>1</td>\n",
       "    </tr>\n",
       "    <tr>\n",
       "      <th>1</th>\n",
       "      <td>1</td>\n",
       "      <td>29.70056</td>\n",
       "      <td>0</td>\n",
       "      <td>0</td>\n",
       "      <td>8.050</td>\n",
       "      <td>0</td>\n",
       "      <td>0</td>\n",
       "    </tr>\n",
       "    <tr>\n",
       "      <th>2</th>\n",
       "      <td>1</td>\n",
       "      <td>39.00000</td>\n",
       "      <td>0</td>\n",
       "      <td>0</td>\n",
       "      <td>26.000</td>\n",
       "      <td>0</td>\n",
       "      <td>0</td>\n",
       "    </tr>\n",
       "    <tr>\n",
       "      <th>3</th>\n",
       "      <td>0</td>\n",
       "      <td>29.00000</td>\n",
       "      <td>0</td>\n",
       "      <td>4</td>\n",
       "      <td>21.075</td>\n",
       "      <td>0</td>\n",
       "      <td>0</td>\n",
       "    </tr>\n",
       "    <tr>\n",
       "      <th>4</th>\n",
       "      <td>1</td>\n",
       "      <td>25.00000</td>\n",
       "      <td>0</td>\n",
       "      <td>0</td>\n",
       "      <td>7.050</td>\n",
       "      <td>0</td>\n",
       "      <td>0</td>\n",
       "    </tr>\n",
       "  </tbody>\n",
       "</table>\n",
       "</div>"
      ],
      "text/plain": [
       "   Sex       Age  SibSp  Parch    Fare  Embarked  Survived\n",
       "0    0  29.00000      1      0  26.000         0         1\n",
       "1    1  29.70056      0      0   8.050         0         0\n",
       "2    1  39.00000      0      0  26.000         0         0\n",
       "3    0  29.00000      0      4  21.075         0         0\n",
       "4    1  25.00000      0      0   7.050         0         0"
      ]
     },
     "execution_count": 9,
     "metadata": {},
     "output_type": "execute_result"
    }
   ],
   "source": [
    "df.head()"
   ]
  },
  {
   "cell_type": "code",
   "execution_count": 10,
   "id": "b5576d18",
   "metadata": {},
   "outputs": [
    {
     "name": "stdout",
     "output_type": "stream",
     "text": [
      "(667, 6)\n",
      "(667,)\n"
     ]
    }
   ],
   "source": [
    "## change the value of dataframe into numpy array\n",
    "numpy_data = df.values\n",
    "x = numpy_data[:,0:6]\n",
    "y = numpy_data[:,6]\n",
    "print(x.shape)\n",
    "print(y.shape)"
   ]
  },
  {
   "cell_type": "code",
   "execution_count": 11,
   "id": "188a38f3",
   "metadata": {},
   "outputs": [
    {
     "data": {
      "text/plain": [
       "LogisticRegression()"
      ]
     },
     "execution_count": 11,
     "metadata": {},
     "output_type": "execute_result"
    }
   ],
   "source": [
    "## train our value with inbuilt logistic Regression\n",
    "x_train,x_test,y_train,y_test = train_test_split(x,y)\n",
    "alg = LogisticRegression()\n",
    "scale = StandardScaler()\n",
    "scale.fit(x_train)\n",
    "x_train = scale.transform(x_train)\n",
    "x_test = scale.transform(x_test)\n",
    "alg.fit(x_train,y_train)"
   ]
  },
  {
   "cell_type": "code",
   "execution_count": 12,
   "id": "243fa4a0",
   "metadata": {},
   "outputs": [
    {
     "name": "stdout",
     "output_type": "stream",
     "text": [
      "score of train data:  0.782\n",
      "score of test data:  0.7784431137724551\n"
     ]
    }
   ],
   "source": [
    "## score of our algorithm for training data and testing data\n",
    "print(\"score of train data: \",alg.score(x_train,y_train))\n",
    "print(\"score of test data: \",alg.score(x_test,y_test))"
   ]
  },
  {
   "cell_type": "code",
   "execution_count": 13,
   "id": "dd7383f4",
   "metadata": {},
   "outputs": [
    {
     "data": {
      "text/plain": [
       "array([[259,  41],\n",
       "       [ 68, 132]], dtype=int64)"
      ]
     },
     "execution_count": 13,
     "metadata": {},
     "output_type": "execute_result"
    }
   ],
   "source": [
    "## let's see the confusion matrix\n",
    "y_pred_train = alg.predict(x_train)\n",
    "y_pred_test = alg.predict(x_test)\n",
    "from sklearn.metrics import confusion_matrix\n",
    "## confusion matrix of train data\n",
    "confusion_matrix(y_train,y_pred_train)"
   ]
  },
  {
   "cell_type": "code",
   "execution_count": 14,
   "id": "eae31227",
   "metadata": {},
   "outputs": [
    {
     "data": {
      "text/plain": [
       "array([[85, 14],\n",
       "       [23, 45]], dtype=int64)"
      ]
     },
     "execution_count": 14,
     "metadata": {},
     "output_type": "execute_result"
    }
   ],
   "source": [
    "## confusion matrix of test data\n",
    "confusion_matrix(y_test,y_pred_test)"
   ]
  },
  {
   "cell_type": "code",
   "execution_count": 16,
   "id": "141b8540",
   "metadata": {},
   "outputs": [
    {
     "name": "stdout",
     "output_type": "stream",
     "text": [
      "classification report for test data: \n",
      "              precision    recall  f1-score   support\n",
      "\n",
      "         0.0       0.79      0.86      0.82        99\n",
      "         1.0       0.76      0.66      0.71        68\n",
      "\n",
      "    accuracy                           0.78       167\n",
      "   macro avg       0.77      0.76      0.76       167\n",
      "weighted avg       0.78      0.78      0.78       167\n",
      "\n",
      "classification report for train data\n",
      "              precision    recall  f1-score   support\n",
      "\n",
      "         0.0       0.79      0.86      0.83       300\n",
      "         1.0       0.76      0.66      0.71       200\n",
      "\n",
      "    accuracy                           0.78       500\n",
      "   macro avg       0.78      0.76      0.77       500\n",
      "weighted avg       0.78      0.78      0.78       500\n",
      "\n"
     ]
    }
   ],
   "source": [
    "## Let's see the classification report for our result\n",
    "from sklearn.metrics import classification_report\n",
    "print(\"classification report for test data: \")\n",
    "print(classification_report(y_test,y_pred_test))\n",
    "print(\"classification report for train data\")\n",
    "print(classification_report(y_train,y_pred_train))"
   ]
  }
 ],
 "metadata": {
  "kernelspec": {
   "display_name": "Python 3",
   "language": "python",
   "name": "python3"
  },
  "language_info": {
   "codemirror_mode": {
    "name": "ipython",
    "version": 3
   },
   "file_extension": ".py",
   "mimetype": "text/x-python",
   "name": "python",
   "nbconvert_exporter": "python",
   "pygments_lexer": "ipython3",
   "version": "3.8.8"
  }
 },
 "nbformat": 4,
 "nbformat_minor": 5
}
