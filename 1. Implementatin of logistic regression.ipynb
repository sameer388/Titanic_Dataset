{
 "cells": [
  {
   "cell_type": "code",
   "execution_count": 2,
   "id": "14ee6fc2",
   "metadata": {},
   "outputs": [],
   "source": [
    "## Here we import the all the modules\n",
    "import numpy as np\n",
    "from sklearn import datasets\n",
    "import pandas as pd\n",
    "import matplotlib.pyplot as plt"
   ]
  },
  {
   "cell_type": "code",
   "execution_count": 3,
   "id": "8dea3404",
   "metadata": {},
   "outputs": [],
   "source": [
    "##Load the cancer datasets\n",
    "cancer = datasets.load_breast_cancer()\n",
    "from sklearn import preprocessing"
   ]
  },
  {
   "cell_type": "code",
   "execution_count": 4,
   "id": "cefa6528",
   "metadata": {},
   "outputs": [
    {
     "data": {
      "text/plain": [
       "array([[1.799e+01, 1.038e+01, 1.228e+02, ..., 4.601e-01, 1.189e-01,\n",
       "        1.000e+00],\n",
       "       [2.057e+01, 1.777e+01, 1.329e+02, ..., 2.750e-01, 8.902e-02,\n",
       "        1.000e+00],\n",
       "       [1.969e+01, 2.125e+01, 1.300e+02, ..., 3.613e-01, 8.758e-02,\n",
       "        1.000e+00],\n",
       "       ...,\n",
       "       [1.660e+01, 2.808e+01, 1.083e+02, ..., 2.218e-01, 7.820e-02,\n",
       "        1.000e+00],\n",
       "       [2.060e+01, 2.933e+01, 1.401e+02, ..., 4.087e-01, 1.240e-01,\n",
       "        1.000e+00],\n",
       "       [7.760e+00, 2.454e+01, 4.792e+01, ..., 2.871e-01, 7.039e-02,\n",
       "        1.000e+00]])"
      ]
     },
     "execution_count": 4,
     "metadata": {},
     "output_type": "execute_result"
    }
   ],
   "source": [
    "x = cancer.data\n",
    "y = cancer.target\n",
    "df = pd.DataFrame(x)\n",
    "df['temp'] = 1\n",
    "x = df.values\n",
    "x"
   ]
  },
  {
   "cell_type": "code",
   "execution_count": 6,
   "id": "bef9be85",
   "metadata": {},
   "outputs": [],
   "source": [
    "\n",
    "def sigmoid(x,m):\n",
    "    ## sigmoid function definition it takes the x and m and return the sigmoid function\n",
    "    z = x@m\n",
    "    ex = 1 +  np.exp(-z)\n",
    "    h = 1/ex\n",
    "    return h\n",
    "def predict(m,x):\n",
    "    ## it prediction the value by x and final m\n",
    "    ## after getting this we compare this value with 0.5\n",
    "    return x@m\n",
    "def score(y, y_pred):\n",
    "    ## it's giving the score by using the formula 1 - u/v\n",
    "    score = 1 - ((y - y_pred)**2).sum()/((y - y.mean())**2).sum()\n",
    "    return score"
   ]
  },
  {
   "cell_type": "code",
   "execution_count": 7,
   "id": "e89f45a3",
   "metadata": {},
   "outputs": [],
   "source": [
    "def cost(x,y,m):\n",
    "    ## this function return the cost by using the formula\n",
    "    l = x.shape[0]\n",
    "    h = sigmoid(x,m)\n",
    "    ## Here we add the value of 0.00001 so that when the value of approx equal to 0 or 1 then our log function\n",
    "    ## is also defined in that case\n",
    "    ct = (-1/l)*(( (y*np.log(h + 0.00001)) + (1 - y)*(np.log(1 - h + 0.00001)) ).sum())\n",
    "    return ct"
   ]
  },
  {
   "cell_type": "code",
   "execution_count": 8,
   "id": "625db1da",
   "metadata": {},
   "outputs": [],
   "source": [
    "def stepgradient(x,y,alpha,m):\n",
    "    l = x.shape[0]\n",
    "    k = np.transpose(x)\n",
    "    ## calculation of step gradient which has same formula as linear regression\n",
    "    m_temp =(1/l)*(k)@((sigmoid(x,m) - y))\n",
    "    m = m - alpha*(m_temp)\n",
    "    return m"
   ]
  },
  {
   "cell_type": "code",
   "execution_count": 27,
   "id": "61561daf",
   "metadata": {},
   "outputs": [],
   "source": [
    "def gd(x,y):\n",
    "    num_iterators = 1000\n",
    "    ## store the value of cost with iteration so that by using graph we can analyse them\n",
    "    J_cost = []\n",
    "    iters = []\n",
    "    alpha = 2\n",
    "    n = x.shape[1]\n",
    "    m = np.zeros((n,1))\n",
    "    for i in range(num_iterators):\n",
    "        m = stepgradient(x,y,alpha,m)\n",
    "        ct = (cost(x,y,m))\n",
    "        J_cost.append(ct)\n",
    "        iters.append(i)\n",
    "    plt.plot(iters,J_cost)\n",
    "    plt.ylabel(\"cost\")\n",
    "    plt.xlabel(\"iteration\")\n",
    "    plt.show()\n",
    "    return m"
   ]
  },
  {
   "cell_type": "code",
   "execution_count": 28,
   "id": "8bb200b7",
   "metadata": {},
   "outputs": [],
   "source": [
    "def run():\n",
    "    cancer = datasets.load_breast_cancer() \n",
    "    x = cancer.data\n",
    "    y = cancer.target\n",
    "    scaler = preprocessing.StandardScaler()\n",
    "    scaler.fit(x)\n",
    "    ## it's important that we transform our x without using the 1 value because if we\n",
    "    ## do transform after adding 1 then the value of 1 become 0\n",
    "    x = scaler.transform(x)\n",
    "    df = pd.DataFrame(x)\n",
    "    df.columns = cancer.feature_names\n",
    "    df['temp'] = 1\n",
    "    x = df.values\n",
    "    \n",
    "    l = x.shape[0]\n",
    "    y = y.reshape((l,1))\n",
    "    m = gd(x,y)\n",
    "    y_pred = predict(m,x)\n",
    "    s = y_pred.shape[0]\n",
    "    ## here we \n",
    "    for i in range(s):\n",
    "        if y_pred[i] <= 0.5:\n",
    "            y_pred[i] = 0\n",
    "        else:\n",
    "            y_pred[i] = 1\n",
    "    print(\"score: \",score(y,y_pred))\n",
    "    print(\"Accuracy: \",(np.mean(y_pred == y))*100)"
   ]
  },
  {
   "cell_type": "code",
   "execution_count": 29,
   "id": "e9e88520",
   "metadata": {},
   "outputs": [
    {
     "data": {
      "image/png": "[encoded data removed]",
      "text/plain": [
       "<Figure size 432x288 with 1 Axes>"
      ]
     },
     "metadata": {
      "needs_background": "light"
     },
     "output_type": "display_data"
    },
    {
     "name": "stdout",
     "output_type": "stream",
     "text": [
      "score:  0.939855187357962\n",
      "Accuracy:  98.59402460456941\n"
     ]
    }
   ],
   "source": [
    "run()"
   ]
  }
 ],
 "metadata": {
  "kernelspec": {
   "display_name": "Python 3",
   "language": "python",
   "name": "python3"
  },
  "language_info": {
   "codemirror_mode": {
    "name": "ipython",
    "version": 3
   },
   "file_extension": ".py",
   "mimetype": "text/x-python",
   "name": "python",
   "nbconvert_exporter": "python",
   "pygments_lexer": "ipython3",
   "version": "3.8.8"
  }
 },
 "nbformat": 4,
 "nbformat_minor": 5
}
